{
  "nbformat": 4,
  "nbformat_minor": 0,
  "metadata": {
    "colab": {
      "name": "Soil_Moisture.ipynb",
      "provenance": [],
      "collapsed_sections": [],
      "authorship_tag": "ABX9TyPzfKG128Ai3b0k/tMxvT5f",
      "include_colab_link": true
    },
    "kernelspec": {
      "name": "python3",
      "display_name": "Python 3"
    }
  },
  "cells": [
    {
      "cell_type": "markdown",
      "metadata": {
        "id": "view-in-github",
        "colab_type": "text"
      },
      "source": [
        "<a href=\"https://colab.research.google.com/github/Somanadha-Sastry-Konduri/IoT-Sensor-Soil_Moisture/blob/main/Soil_Moisture_Questionnaire_flow.ipynb\" target=\"_parent\"><img src=\"https://colab.research.google.com/assets/colab-badge.svg\" alt=\"Open In Colab\"/></a>"
      ]
    },
    {
      "cell_type": "code",
      "metadata": {
        "id": "21sA-bpqrC_f",
        "cellView": "form",
        "outputId": "c6c043e5-94b8-47a1-d690-2af2a9408607",
        "colab": {
          "base_uri": "https://localhost:8080/",
          "height": 57
        }
      },
      "source": [
        "#@title \n",
        "%%html\n",
        "<marquee style='width: 100%; color: #00a7f4;font-size:30px;'><b>Welcome to Mentorskool Community Project Edition!</b></marquee>"
      ],
      "execution_count": null,
      "outputs": [
        {
          "output_type": "display_data",
          "data": {
            "text/html": [
              "<marquee style='width: 100%; color: #00a7f4;font-size:30px;'><b>Welcome to Mentorskool Community Project Edition!</b></marquee>"
            ],
            "text/plain": [
              "<IPython.core.display.HTML object>"
            ]
          },
          "metadata": {
            "tags": []
          }
        }
      ]
    },
    {
      "cell_type": "markdown",
      "metadata": {
        "id": "nNxdRKM7stYB"
      },
      "source": [
        "***This community edition project will help you understand and enhance skills on*** \n",
        "1. AWS S3\n",
        "2. Big Data (Apache Spark- Databricks)\n",
        "3. EDA (Both Python and SQL)\n",
        "4. Creating and Tracking MLflow experiments\n",
        "5. Feature Selection \n",
        "6. Clustering\n",
        "7. Designing and developing ML Solution\n"
      ]
    },
    {
      "cell_type": "markdown",
      "metadata": {
        "id": "WctlV0gjsWxg"
      },
      "source": [
        "### **Before you start**\n",
        "---\n",
        "***Please ensure to have below list of tools and items ready :***\n",
        "* Databricks community edition account\n",
        "* AWS Free Tier account (AWS Free tier account creation will require your credit/debit card details)\n",
        "* Downloaded sensor **required dataset** from the below links\n",
        "    * ***Raw Sensor Dataset:*** [here](https://drive.google.com/file/d/1z2Jv7Ut_Q4C1wSIyHCiIoxmA-dGnTA7M/view?usp=sharing) \n",
        "        * This is a bronze quality dataset. Use this to enhance data pre-processing skills\n",
        "    * ***Cleaned Sensor Dataset:*** \n",
        "        Langley-Cumulus-Data: [here](https://drive.google.com/file/d/1xrpCAOqf0q3uZihiZW-Bo7_bkMtTE7Rp/view?usp=sharing) , Argyle-Cumulus-Data: [here](https://drive.google.com/file/d/1E47l3MpunCB4SVAj72Ns8a_DEqn0MEqp/view?usp=sharing)\n",
        "        * This is a silver quality dataset. Use this dataset to practise feature selection skills\n",
        "    * ***Final Sensor Dataset:*** [\"Yet to add link\"] \n",
        "        * This is a gold quality dataset. Use this dataset to build Machine learning solutions directly."
      ]
    },
    {
      "cell_type": "markdown",
      "metadata": {
        "id": "XHiMHbHa3uc0"
      },
      "source": [
        "### **Motivation**\n",
        "---\n",
        "\n",
        "***Agricultural and farming*** Sector Contributes **~17%** to India's GDP. To yield better profits-using good quality seeds, managing irrigation are part of solution. One such answer to yield better profits is efficient understanding of soil moisture. Soil Moisture can help us manage irrigation, supply of nutrient to crop.\n",
        "\n",
        "Soil Moisture can be measured with different types of sensors. But there are several disadvantage of using soil moisture sensor.To install a sensor, A person with agricultural expertise sould inspect soil for selecting sensor. Then a probe is to be installed. Skilled labour is required to collect data and maitain measurement process. Quality and caliberation of sensors have to be maintained.\n",
        "\n",
        "Several farmers cannot afford all of these tasks either due to financial constraints or lack of awareness. %VWC is a measure of soil moisture. An ML solution is to be built to predict **%VWC** depending up on atmospheric conditions so as to avoid all of this hassle. This although doesnt completely avaoid the sensor measurement, but reduces the frequency of measurement"
      ]
    },
    {
      "cell_type": "markdown",
      "metadata": {
        "id": "Z5P_n9DDA6z-"
      },
      "source": [
        "### **Problem Statement**\n",
        "---\n",
        "As mentioned in the motivation we will develop and design a machine learning solution to reduce the frequency of measurement of soil moisture using sensors. This machine learning solution can help us answer several problems such as:\n",
        "\n",
        "  * **Impact of Atmospheric conditions on soil moisture:**\n",
        "      * Understanding relationship among atmospheric conditions\n",
        "      * Understanding relation between atmpospheric condition and soil moisture\n",
        "  \n",
        "  * **Time Series analysis:**\n",
        "      * How does soil moisture change w.r.t month\n",
        "      * Seasonality analysis\n",
        "\n",
        "and many more.....!!\n",
        "\n"
      ]
    },
    {
      "cell_type": "markdown",
      "metadata": {
        "id": "jq-FFymJO4fH"
      },
      "source": [
        "### **Tips**\n",
        "---\n",
        "* You can use Either Python/Sql to answer below questions\n",
        "* Please use both S3 and databricks from same region\n",
        "* There might be some cost that will incur, because you will be using AWS services\n",
        "\n"
      ]
    },
    {
      "cell_type": "markdown",
      "metadata": {
        "id": "v2Fc0il8GPCV"
      },
      "source": [
        "### **1. Questions on Data Storage**\n",
        "---\n",
        "* How to create an AWS S3 bucket?\n",
        "* How to decide which region to choose while creating an AWS S3 bucket?\n",
        "* Is it possible to change region of an AWS S3 bucket after creating it?\n",
        "* How to decide the type of access, while creating a bucket?\n",
        "* How to create access for a new user to created AWS S3 bucket?\n",
        "* How to upload datasets into created S3 bucket?\n",
        "---\n",
        "\n",
        "\n",
        "\n"
      ]
    },
    {
      "cell_type": "markdown",
      "metadata": {
        "id": "Ig6Y-p1EH35D"
      },
      "source": [
        "### **2. Question on Accessing S3 bucket from databricks**\n",
        "---\n",
        "\n",
        "\n",
        "* How to create a cluster on Databricks?\n",
        "* How to create a notebook on Databricks?\n",
        "* How to attach cluster to a notebook?\n",
        "* How to create an AWS IAM User?\n",
        "* How to attach policies to an existing/new IAM user?\n",
        "* Which type of access should be give to IAM user, so that he/she can use it to access S3 from databricks?\n",
        "* Which type of policy should be give to created IAM user, so that he/she can use it to access S3 from databricks?\n",
        "* If i ask you for acess and secret access key of an IAM user, will you share? If yes, which one will you share?\n",
        "* How to access S3 from Databricks?\n",
        "* How to mount and demount S3 on databricks?\n",
        "* Create a Spark Dataframe from the csv file?\n",
        "* How to create temporary table?\n",
        "---\n",
        "\n",
        "\n"
      ]
    },
    {
      "cell_type": "markdown",
      "metadata": {
        "id": "Sw6XsG1GN_lE"
      },
      "source": [
        "### **3. Questions on Data**\n",
        "---\n",
        "* How many features are there in the dataset?\n",
        "* How many records are there in the dataset?\n",
        "* What does, each and every feature describe?\n",
        "* Is the currect dataframe enough to predict soil moisture or do we need to manipulate and create a new dataframe?\n",
        "* If you decide to create a new dataframe how would you do it?\n",
        "* Are there any null values in the current dataset? If yes, is it required to impute values?\n",
        "* Write conclusions on your understanding of the dataset\n",
        "\n",
        "\n"
      ]
    },
    {
      "cell_type": "markdown",
      "metadata": {
        "id": "kpG_etn5Ogfz"
      },
      "source": [
        "### **4. Questions on Preparing final datasets**\n",
        "---\n",
        "* Which column quantifies the soil moisture?\n",
        "* Which stations have the particular column that quantifies the soil moisture?\n",
        "* Would you make seperate files for each station or a combined file for all stations that are chosen in questin 2 of this section? Explain your approach\n",
        "* how would you transform your original dataframe such that the final dataframe should contain data from the selected station and target variable as the one that quantifies your soilmoisture?\n",
        "* Is there a necessity of aggregation in the transformed dataframe? If yes, what aggregation would you prefer and why?\n",
        "* Is there anynecessity of doing the Join in you transformed dataframe? If yes, which type of join will you prefer and why?\n",
        "* How to write back the final dataframe ascsv/parquet to AWS S3?\n"
      ]
    }
  ]
}